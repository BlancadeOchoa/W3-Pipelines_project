{
 "cells": [
  {
   "cell_type": "code",
   "execution_count": 66,
   "metadata": {},
   "outputs": [],
   "source": [
    "import spotipy\n",
    "from dotenv import load_dotenv\n",
    "import os\n",
    "import re\n",
    "import pandas as pd\n",
    "import requests"
   ]
  },
  {
   "cell_type": "markdown",
   "metadata": {},
   "source": [
    "#### Firstly, I import the clean Dataset from the other jupyter file"
   ]
  },
  {
   "cell_type": "code",
   "execution_count": 67,
   "metadata": {},
   "outputs": [],
   "source": [
    "df = pd.read_csv('clean_top50.csv', index_col = 0)"
   ]
  },
  {
   "cell_type": "code",
   "execution_count": 68,
   "metadata": {},
   "outputs": [
    {
     "data": {
      "text/plain": [
       "True"
      ]
     },
     "execution_count": 68,
     "metadata": {},
     "output_type": "execute_result"
    }
   ],
   "source": [
    "load_dotenv()\n"
   ]
  },
  {
   "cell_type": "markdown",
   "metadata": {},
   "source": [
    "#### I then hide the client secret and id "
   ]
  },
  {
   "cell_type": "code",
   "execution_count": 69,
   "metadata": {},
   "outputs": [],
   "source": [
    "token_client_id = os.getenv('client_id')\n",
    "token_client_secret = os.getenv('client_secret')"
   ]
  },
  {
   "cell_type": "code",
   "execution_count": 70,
   "metadata": {},
   "outputs": [],
   "source": [
    "sp = spotipy.Spotify(client_credentials_manager=SpotifyClientCredentials\n",
    "                     (client_id=token_client_id,\n",
    "                      client_secret=token_client_secret))\n",
    "\n"
   ]
  },
  {
   "cell_type": "markdown",
   "metadata": {},
   "source": [
    "#### I create a list with the artist names in order to iterate ang get the info needed from the API"
   ]
  },
  {
   "cell_type": "code",
   "execution_count": 71,
   "metadata": {},
   "outputs": [
    {
     "data": {
      "text/plain": [
       "['Shawn mendes', 'Anuel aa', 'Ariana grande', 'Ed sheeran', 'Post malone']"
      ]
     },
     "execution_count": 71,
     "metadata": {},
     "output_type": "execute_result"
    }
   ],
   "source": [
    "musicians = list(df['Artist name'])\n",
    "musicians[:5]"
   ]
  },
  {
   "cell_type": "markdown",
   "metadata": {},
   "source": [
    "## Using the API"
   ]
  },
  {
   "cell_type": "markdown",
   "metadata": {},
   "source": [
    "### 1. I try and use an artists name to get a value using the API"
   ]
  },
  {
   "cell_type": "code",
   "execution_count": 72,
   "metadata": {},
   "outputs": [
    {
     "data": {
      "text/plain": [
       "23253551"
      ]
     },
     "execution_count": 72,
     "metadata": {},
     "output_type": "execute_result"
    }
   ],
   "source": [
    "artist = 'Selena Gomez'\n",
    "\n",
    "track_id = sp.search(q='artist:' + artist, type='artist')\n",
    "\n",
    "track_id['artists']['items'][0]['followers']['total']\n"
   ]
  },
  {
   "cell_type": "code",
   "execution_count": 73,
   "metadata": {},
   "outputs": [
    {
     "data": {
      "text/plain": [
       "dict_keys(['artists'])"
      ]
     },
     "execution_count": 73,
     "metadata": {},
     "output_type": "execute_result"
    }
   ],
   "source": [
    "d_items = track_id.keys()\n",
    "d_items  # Here d_items is a view of items\n",
    "\n"
   ]
  },
  {
   "cell_type": "markdown",
   "metadata": {},
   "source": [
    "### 2. Once this returns the value we desire, we iterate through the list of musicians to get this value from each of them"
   ]
  },
  {
   "cell_type": "code",
   "execution_count": 74,
   "metadata": {},
   "outputs": [
    {
     "name": "stdout",
     "output_type": "stream",
     "text": [
      "[29701495, 14836789, 52450478, 71661189, 29115825, 71661189, 3004490, 14275643, 3618346, 34581338, 26163027, 7096834, 5611488, 6032870, 50541059, 12503558, 23639086, 29115825, 248554, 3300072, 328806, 3618346, 1362047, 3287041, 34581338, 29701495, 2268734, 1406679, 20614030, 23639086, 16919076, 52450478, 21586397, 5639547, 16570488, 13872670, 6032870, 71661189, 4646014, 3575981, 6849753, 33421356, 14394953, 12809749, 4203430, 27614655, 13085694, 27614655, 16919076, 71661189]\n"
     ]
    }
   ],
   "source": [
    "spotify_followers = []\n",
    "\n",
    "for x in musicians:\n",
    "    track_id = sp.search(q='artist:' + x, type='artist')\n",
    "    followers = track_id['artists']['items'][0]['followers']['total']\n",
    "    spotify_followers.append(followers)\n",
    "    \n",
    "print(spotify_followers)"
   ]
  },
  {
   "cell_type": "markdown",
   "metadata": {},
   "source": [
    "### 3. I create a new column on my df to incorporate the new list of values"
   ]
  },
  {
   "cell_type": "code",
   "execution_count": 75,
   "metadata": {},
   "outputs": [
    {
     "data": {
      "text/html": [
       "<div>\n",
       "<style scoped>\n",
       "    .dataframe tbody tr th:only-of-type {\n",
       "        vertical-align: middle;\n",
       "    }\n",
       "\n",
       "    .dataframe tbody tr th {\n",
       "        vertical-align: top;\n",
       "    }\n",
       "\n",
       "    .dataframe thead th {\n",
       "        text-align: right;\n",
       "    }\n",
       "</style>\n",
       "<table border=\"1\" class=\"dataframe\">\n",
       "  <thead>\n",
       "    <tr style=\"text-align: right;\">\n",
       "      <th></th>\n",
       "      <th>Chart position</th>\n",
       "      <th>Track name</th>\n",
       "      <th>Artist name</th>\n",
       "      <th>Genre</th>\n",
       "      <th>Beats per minute</th>\n",
       "      <th>Energy</th>\n",
       "      <th>Danceability</th>\n",
       "      <th>Valence</th>\n",
       "      <th>Length</th>\n",
       "      <th>Followers</th>\n",
       "    </tr>\n",
       "  </thead>\n",
       "  <tbody>\n",
       "    <tr>\n",
       "      <th>0</th>\n",
       "      <td>1</td>\n",
       "      <td>Señorita</td>\n",
       "      <td>Shawn mendes</td>\n",
       "      <td>Canadian pop</td>\n",
       "      <td>117</td>\n",
       "      <td>55</td>\n",
       "      <td>76</td>\n",
       "      <td>75</td>\n",
       "      <td>191</td>\n",
       "      <td>29701495</td>\n",
       "    </tr>\n",
       "    <tr>\n",
       "      <th>1</th>\n",
       "      <td>2</td>\n",
       "      <td>China</td>\n",
       "      <td>Anuel aa</td>\n",
       "      <td>Reggaeton flow</td>\n",
       "      <td>105</td>\n",
       "      <td>81</td>\n",
       "      <td>79</td>\n",
       "      <td>61</td>\n",
       "      <td>302</td>\n",
       "      <td>14836789</td>\n",
       "    </tr>\n",
       "    <tr>\n",
       "      <th>2</th>\n",
       "      <td>3</td>\n",
       "      <td>Boyfriend (with social house)</td>\n",
       "      <td>Ariana grande</td>\n",
       "      <td>Dance pop</td>\n",
       "      <td>190</td>\n",
       "      <td>80</td>\n",
       "      <td>40</td>\n",
       "      <td>70</td>\n",
       "      <td>186</td>\n",
       "      <td>52450478</td>\n",
       "    </tr>\n",
       "    <tr>\n",
       "      <th>3</th>\n",
       "      <td>4</td>\n",
       "      <td>Beautiful people (feat. khalid)</td>\n",
       "      <td>Ed sheeran</td>\n",
       "      <td>Pop</td>\n",
       "      <td>93</td>\n",
       "      <td>65</td>\n",
       "      <td>64</td>\n",
       "      <td>55</td>\n",
       "      <td>198</td>\n",
       "      <td>71661189</td>\n",
       "    </tr>\n",
       "    <tr>\n",
       "      <th>4</th>\n",
       "      <td>5</td>\n",
       "      <td>Goodbyes (feat. young thug)</td>\n",
       "      <td>Post malone</td>\n",
       "      <td>Dfw rap</td>\n",
       "      <td>150</td>\n",
       "      <td>65</td>\n",
       "      <td>58</td>\n",
       "      <td>18</td>\n",
       "      <td>175</td>\n",
       "      <td>29115825</td>\n",
       "    </tr>\n",
       "  </tbody>\n",
       "</table>\n",
       "</div>"
      ],
      "text/plain": [
       "   Chart position                       Track name    Artist name  \\\n",
       "0               1                         Señorita   Shawn mendes   \n",
       "1               2                            China       Anuel aa   \n",
       "2               3    Boyfriend (with social house)  Ariana grande   \n",
       "3               4  Beautiful people (feat. khalid)     Ed sheeran   \n",
       "4               5      Goodbyes (feat. young thug)    Post malone   \n",
       "\n",
       "            Genre  Beats per minute  Energy  Danceability  Valence  Length  \\\n",
       "0    Canadian pop               117      55            76       75     191   \n",
       "1  Reggaeton flow               105      81            79       61     302   \n",
       "2       Dance pop               190      80            40       70     186   \n",
       "3             Pop                93      65            64       55     198   \n",
       "4         Dfw rap               150      65            58       18     175   \n",
       "\n",
       "   Followers  \n",
       "0   29701495  \n",
       "1   14836789  \n",
       "2   52450478  \n",
       "3   71661189  \n",
       "4   29115825  "
      ]
     },
     "execution_count": 75,
     "metadata": {},
     "output_type": "execute_result"
    }
   ],
   "source": [
    "df['Followers'] = spotify_followers\n",
    "df.head()"
   ]
  },
  {
   "cell_type": "markdown",
   "metadata": {},
   "source": [
    "### 4. Repeat the process with whatever value we desire to add to the df"
   ]
  },
  {
   "cell_type": "markdown",
   "metadata": {},
   "source": [
    "#### I have chosen the url to their pictures to add graphical value to the df"
   ]
  },
  {
   "cell_type": "code",
   "execution_count": 76,
   "metadata": {},
   "outputs": [
    {
     "data": {
      "text/plain": [
       "'https://i.scdn.co/image/f55cab0739390cf3b2c2f773b9c779b2f0ae8a99'"
      ]
     },
     "execution_count": 76,
     "metadata": {},
     "output_type": "execute_result"
    }
   ],
   "source": [
    "track_id['artists']['items'][0]['images'][0]['url']"
   ]
  },
  {
   "cell_type": "code",
   "execution_count": 77,
   "metadata": {},
   "outputs": [
    {
     "name": "stdout",
     "output_type": "stream",
     "text": [
      "['https://i.scdn.co/image/809b93c47fca237138e53968d86682f09d0f45a2', 'https://i.scdn.co/image/2a45c88705c1fb6aac429a40b45f044373e5acfd', 'https://i.scdn.co/image/f8c793519d837ca2f920c561535fe62ef32e8e5b', 'https://i.scdn.co/image/f55cab0739390cf3b2c2f773b9c779b2f0ae8a99', 'https://i.scdn.co/image/93fec27f9aac86526b9010e882037afbda4e3d5f', 'https://i.scdn.co/image/f55cab0739390cf3b2c2f773b9c779b2f0ae8a99', 'https://i.scdn.co/image/e6b20ef3bab6c621edba47c620fd3386e09b6390', 'https://i.scdn.co/image/33912eaecd7c96d5380ea499cb662dd543315129', 'https://i.scdn.co/image/12d5ab979779aa41e697ce823328d527e643e4cf', 'https://i.scdn.co/image/022d340319cc6c57ed953075f4c7a2d3346669af', 'https://i.scdn.co/image/23009960c33ef08d5973440cca17985a6c70a515', 'https://i.scdn.co/image/3b232935a2d2dc1fcc3bfd8db2d6be58292b2317', 'https://i.scdn.co/image/5ed13d249e562fea4e296aaeb745ce06d27ec88f', 'https://i.scdn.co/image/5d8513b9cb8ab6918296feec6a3bb18fdd526568', 'https://i.scdn.co/image/60cfab40c6bb160a1906be45276829d430058005', 'https://i.scdn.co/image/e153d6448b17ce97b2a79da70d64b89230c67053', 'https://i.scdn.co/image/c197cd71445eedb25326f490130581b0718def85', 'https://i.scdn.co/image/93fec27f9aac86526b9010e882037afbda4e3d5f', 'https://i.scdn.co/image/10df130e3c229399bcecc55ce0eda289b60e0047', 'https://i.scdn.co/image/e33e4245fe5901ed940ba95070bb8d56679b6fe0', 'https://i.scdn.co/image/454d264e5ba4e1bdd945d85494d3516cb4c278a4', 'https://i.scdn.co/image/12d5ab979779aa41e697ce823328d527e643e4cf', 'https://i.scdn.co/image/413551bc8730d2710cbccfaac980fa51c4f7d55f', 'https://i.scdn.co/image/701381c2a3b05e0964ea62ae0490b625ad67e84d', 'https://i.scdn.co/image/022d340319cc6c57ed953075f4c7a2d3346669af', 'https://i.scdn.co/image/809b93c47fca237138e53968d86682f09d0f45a2', 'https://i.scdn.co/image/e7b6b3347af1ccfc7c66f8f0fb4eb52c5218b6ce', 'https://i.scdn.co/image/087ca632c220ced89cdfa098cbd2494fce10d41a', 'https://i.scdn.co/image/f03d0c7a47bf08cb4ae8de345521346553bc015f', 'https://i.scdn.co/image/c197cd71445eedb25326f490130581b0718def85', 'https://i.scdn.co/image/960547a625bc2eb742bb3dd170cbc049d2e94cf9', 'https://i.scdn.co/image/f8c793519d837ca2f920c561535fe62ef32e8e5b', 'https://i.scdn.co/image/0b6f5467bbde78796b33d8eed85157620b3080cc', 'https://i.scdn.co/image/69ef089edd03d6d5455ed61e96d27c7f5b995434', 'https://i.scdn.co/image/ecebace064c7a48b7ae4a611b82887aa79163c1e', 'https://i.scdn.co/image/19b193e731a99776449d2b06742942e1e1f58fb2', 'https://i.scdn.co/image/5d8513b9cb8ab6918296feec6a3bb18fdd526568', 'https://i.scdn.co/image/f55cab0739390cf3b2c2f773b9c779b2f0ae8a99', 'https://i.scdn.co/image/81415a47bf49148ed333cba4765551f4da5d7d30', 'https://i.scdn.co/image/dbdab49163d4d94c643c58944943bcf5689954d0', 'https://i.scdn.co/image/eee84c026e93f6d970fdc82c5010c45219530577', 'https://i.scdn.co/image/a37efbc7fd3f5f5df81b48ce9c6de53820b239c1', 'https://i.scdn.co/image/1f4c23aa943d8eafc17e9f02e0cb1ffc3ac49d37', 'https://i.scdn.co/image/05da6a798c59e8ab7102d77c8deb79d67a1360ed', 'https://i.scdn.co/image/5add45e660b6507d66d5bd7cb07942ecdad01e4e', 'https://i.scdn.co/image/80537745bb00731ffd638b8a64f208b3f86a7332', 'https://i.scdn.co/image/e2cc83fdb16667b0cc6c011da4747adedc759185', 'https://i.scdn.co/image/80537745bb00731ffd638b8a64f208b3f86a7332', 'https://i.scdn.co/image/960547a625bc2eb742bb3dd170cbc049d2e94cf9', 'https://i.scdn.co/image/f55cab0739390cf3b2c2f773b9c779b2f0ae8a99']\n"
     ]
    }
   ],
   "source": [
    "spotify_pic = []\n",
    "\n",
    "for x in musicians:\n",
    "    track_id = sp.search(q='artist:' + x, type='artist')\n",
    "    pic = track_id['artists']['items'][0]['images'][0]['url']\n",
    "    spotify_pic.append(pic)\n",
    "    \n",
    "print(spotify_pic)"
   ]
  },
  {
   "cell_type": "code",
   "execution_count": 78,
   "metadata": {},
   "outputs": [
    {
     "data": {
      "text/html": [
       "<div>\n",
       "<style scoped>\n",
       "    .dataframe tbody tr th:only-of-type {\n",
       "        vertical-align: middle;\n",
       "    }\n",
       "\n",
       "    .dataframe tbody tr th {\n",
       "        vertical-align: top;\n",
       "    }\n",
       "\n",
       "    .dataframe thead th {\n",
       "        text-align: right;\n",
       "    }\n",
       "</style>\n",
       "<table border=\"1\" class=\"dataframe\">\n",
       "  <thead>\n",
       "    <tr style=\"text-align: right;\">\n",
       "      <th></th>\n",
       "      <th>Chart position</th>\n",
       "      <th>Track name</th>\n",
       "      <th>Artist name</th>\n",
       "      <th>Genre</th>\n",
       "      <th>Beats per minute</th>\n",
       "      <th>Energy</th>\n",
       "      <th>Danceability</th>\n",
       "      <th>Valence</th>\n",
       "      <th>Length</th>\n",
       "      <th>Followers</th>\n",
       "      <th>Picture</th>\n",
       "    </tr>\n",
       "  </thead>\n",
       "  <tbody>\n",
       "    <tr>\n",
       "      <th>0</th>\n",
       "      <td>1</td>\n",
       "      <td>Señorita</td>\n",
       "      <td>Shawn mendes</td>\n",
       "      <td>Canadian pop</td>\n",
       "      <td>117</td>\n",
       "      <td>55</td>\n",
       "      <td>76</td>\n",
       "      <td>75</td>\n",
       "      <td>191</td>\n",
       "      <td>29701495</td>\n",
       "      <td>https://i.scdn.co/image/809b93c47fca237138e539...</td>\n",
       "    </tr>\n",
       "    <tr>\n",
       "      <th>1</th>\n",
       "      <td>2</td>\n",
       "      <td>China</td>\n",
       "      <td>Anuel aa</td>\n",
       "      <td>Reggaeton flow</td>\n",
       "      <td>105</td>\n",
       "      <td>81</td>\n",
       "      <td>79</td>\n",
       "      <td>61</td>\n",
       "      <td>302</td>\n",
       "      <td>14836789</td>\n",
       "      <td>https://i.scdn.co/image/2a45c88705c1fb6aac429a...</td>\n",
       "    </tr>\n",
       "    <tr>\n",
       "      <th>2</th>\n",
       "      <td>3</td>\n",
       "      <td>Boyfriend (with social house)</td>\n",
       "      <td>Ariana grande</td>\n",
       "      <td>Dance pop</td>\n",
       "      <td>190</td>\n",
       "      <td>80</td>\n",
       "      <td>40</td>\n",
       "      <td>70</td>\n",
       "      <td>186</td>\n",
       "      <td>52450478</td>\n",
       "      <td>https://i.scdn.co/image/f8c793519d837ca2f920c5...</td>\n",
       "    </tr>\n",
       "    <tr>\n",
       "      <th>3</th>\n",
       "      <td>4</td>\n",
       "      <td>Beautiful people (feat. khalid)</td>\n",
       "      <td>Ed sheeran</td>\n",
       "      <td>Pop</td>\n",
       "      <td>93</td>\n",
       "      <td>65</td>\n",
       "      <td>64</td>\n",
       "      <td>55</td>\n",
       "      <td>198</td>\n",
       "      <td>71661189</td>\n",
       "      <td>https://i.scdn.co/image/f55cab0739390cf3b2c2f7...</td>\n",
       "    </tr>\n",
       "    <tr>\n",
       "      <th>4</th>\n",
       "      <td>5</td>\n",
       "      <td>Goodbyes (feat. young thug)</td>\n",
       "      <td>Post malone</td>\n",
       "      <td>Dfw rap</td>\n",
       "      <td>150</td>\n",
       "      <td>65</td>\n",
       "      <td>58</td>\n",
       "      <td>18</td>\n",
       "      <td>175</td>\n",
       "      <td>29115825</td>\n",
       "      <td>https://i.scdn.co/image/93fec27f9aac86526b9010...</td>\n",
       "    </tr>\n",
       "  </tbody>\n",
       "</table>\n",
       "</div>"
      ],
      "text/plain": [
       "   Chart position                       Track name    Artist name  \\\n",
       "0               1                         Señorita   Shawn mendes   \n",
       "1               2                            China       Anuel aa   \n",
       "2               3    Boyfriend (with social house)  Ariana grande   \n",
       "3               4  Beautiful people (feat. khalid)     Ed sheeran   \n",
       "4               5      Goodbyes (feat. young thug)    Post malone   \n",
       "\n",
       "            Genre  Beats per minute  Energy  Danceability  Valence  Length  \\\n",
       "0    Canadian pop               117      55            76       75     191   \n",
       "1  Reggaeton flow               105      81            79       61     302   \n",
       "2       Dance pop               190      80            40       70     186   \n",
       "3             Pop                93      65            64       55     198   \n",
       "4         Dfw rap               150      65            58       18     175   \n",
       "\n",
       "   Followers                                            Picture  \n",
       "0   29701495  https://i.scdn.co/image/809b93c47fca237138e539...  \n",
       "1   14836789  https://i.scdn.co/image/2a45c88705c1fb6aac429a...  \n",
       "2   52450478  https://i.scdn.co/image/f8c793519d837ca2f920c5...  \n",
       "3   71661189  https://i.scdn.co/image/f55cab0739390cf3b2c2f7...  \n",
       "4   29115825  https://i.scdn.co/image/93fec27f9aac86526b9010...  "
      ]
     },
     "execution_count": 78,
     "metadata": {},
     "output_type": "execute_result"
    }
   ],
   "source": [
    "df['Picture'] = spotify_pic\n",
    "df.head()"
   ]
  },
  {
   "cell_type": "code",
   "execution_count": 85,
   "metadata": {},
   "outputs": [],
   "source": [
    "df.to_csv('complete_top50.csv')"
   ]
  }
 ],
 "metadata": {
  "kernelspec": {
   "display_name": "Python 3",
   "language": "python",
   "name": "python3"
  },
  "language_info": {
   "codemirror_mode": {
    "name": "ipython",
    "version": 3
   },
   "file_extension": ".py",
   "mimetype": "text/x-python",
   "name": "python",
   "nbconvert_exporter": "python",
   "pygments_lexer": "ipython3",
   "version": "3.8.5"
  }
 },
 "nbformat": 4,
 "nbformat_minor": 4
}
